{
 "cells": [
  {
   "cell_type": "markdown",
   "metadata": {},
   "source": [
    "## Segmenting and Clustering Neighborhoods in Toronto"
   ]
  },
  {
   "cell_type": "markdown",
   "metadata": {},
   "source": [
    "## Table of Contents"
   ]
  },
  {
   "cell_type": "markdown",
   "metadata": {},
   "source": [
    "1. Download and Explore Dataset\n",
    "\n",
    "2. Explore Neighborhoods in Toronto\n",
    "\n",
    "3. Analyze Each Neighborhood\n",
    "\n",
    "4. Cluster Neighborhoods\n",
    "\n",
    "5. Examine Clusters"
   ]
  },
  {
   "cell_type": "markdown",
   "metadata": {},
   "source": [
    "Before we get the data and start exploring it, let's download all the dependencies that we will need."
   ]
  },
  {
   "cell_type": "code",
   "execution_count": 1,
   "metadata": {},
   "outputs": [
    {
     "name": "stdout",
     "output_type": "stream",
     "text": [
      "Collecting package metadata (current_repodata.json): ...working... done\n",
      "Solving environment: ...working... done\n",
      "\n",
      "# All requested packages already installed.\n",
      "\n",
      "Requirement already satisfied: folium in c:\\users\\user\\anaconda3\\lib\\site-packages (0.11.0)\n",
      "Requirement already satisfied: jinja2>=2.9 in c:\\users\\user\\anaconda3\\lib\\site-packages (from folium) (2.11.2)\n",
      "Requirement already satisfied: numpy in c:\\users\\user\\anaconda3\\lib\\site-packages (from folium) (1.19.1)\n",
      "Requirement already satisfied: requests in c:\\users\\user\\anaconda3\\lib\\site-packages (from folium) (2.24.0)\n",
      "Requirement already satisfied: branca>=0.3.0 in c:\\users\\user\\anaconda3\\lib\\site-packages (from folium) (0.4.1)\n",
      "Requirement already satisfied: MarkupSafe>=0.23 in c:\\users\\user\\anaconda3\\lib\\site-packages (from jinja2>=2.9->folium) (1.1.1)\n",
      "Requirement already satisfied: chardet<4,>=3.0.2 in c:\\users\\user\\anaconda3\\lib\\site-packages (from requests->folium) (3.0.4)\n",
      "Requirement already satisfied: idna<3,>=2.5 in c:\\users\\user\\anaconda3\\lib\\site-packages (from requests->folium) (2.10)\n",
      "Requirement already satisfied: certifi>=2017.4.17 in c:\\users\\user\\anaconda3\\lib\\site-packages (from requests->folium) (2020.6.20)\n",
      "Requirement already satisfied: urllib3!=1.25.0,!=1.25.1,<1.26,>=1.21.1 in c:\\users\\user\\anaconda3\\lib\\site-packages (from requests->folium) (1.25.10)\n",
      "Libraries imported.\n"
     ]
    }
   ],
   "source": [
    "import numpy as np # library to handle data in a vectorized manner\n",
    "\n",
    "import pandas as pd # library for data analsysis\n",
    "from pandas import DataFrame\n",
    "pd.set_option('display.max_columns', None)\n",
    "pd.set_option('display.max_rows', None)\n",
    "\n",
    "import json # library to handle JSON files\n",
    "\n",
    "#!conda install -c conda-forge geopy --yes # uncomment this line if you haven't completed the Foursquare API lab\n",
    "!conda install -c conda-forge geopy --yes\n",
    "from geopy.geocoders import Nominatim # convert an address into latitude and longitude values\n",
    "\n",
    "import requests # library to handle requests\n",
    "from pandas.io.json import json_normalize # tranform JSON file into a pandas dataframe\n",
    "\n",
    "# Matplotlib and associated plotting modules\n",
    "import matplotlib.cm as cm\n",
    "import matplotlib.colors as colors\n",
    "\n",
    "# import k-means from clustering stage\n",
    "from sklearn.cluster import KMeans\n",
    "\n",
    "#!conda install -c conda-forge folium=0.5.0 --yes # uncomment this line if you haven't completed the Foursquare API lab\n",
    "!pip install folium\n",
    "import folium # map rendering library\n",
    "\n",
    "import urllib.request\n",
    "from bs4 import BeautifulSoup\n",
    "\n",
    "print('Libraries imported.')"
   ]
  },
  {
   "cell_type": "markdown",
   "metadata": {},
   "source": [
    "## 1. Download and Explore Dataset"
   ]
  },
  {
   "cell_type": "code",
   "execution_count": 2,
   "metadata": {},
   "outputs": [
    {
     "name": "stdout",
     "output_type": "stream",
     "text": [
      "Data downloaded!\n",
      "The initial shape of dataframe is:  (180, 3)\n"
     ]
    },
    {
     "data": {
      "text/html": [
       "<div>\n",
       "<style scoped>\n",
       "    .dataframe tbody tr th:only-of-type {\n",
       "        vertical-align: middle;\n",
       "    }\n",
       "\n",
       "    .dataframe tbody tr th {\n",
       "        vertical-align: top;\n",
       "    }\n",
       "\n",
       "    .dataframe thead th {\n",
       "        text-align: right;\n",
       "    }\n",
       "</style>\n",
       "<table border=\"1\" class=\"dataframe\">\n",
       "  <thead>\n",
       "    <tr style=\"text-align: right;\">\n",
       "      <th></th>\n",
       "      <th>Postal Code</th>\n",
       "      <th>Borough</th>\n",
       "      <th>Neighbourhood</th>\n",
       "    </tr>\n",
       "  </thead>\n",
       "  <tbody>\n",
       "    <tr>\n",
       "      <th>0</th>\n",
       "      <td>M1A</td>\n",
       "      <td>Not assigned</td>\n",
       "      <td>Not assigned</td>\n",
       "    </tr>\n",
       "    <tr>\n",
       "      <th>1</th>\n",
       "      <td>M2A</td>\n",
       "      <td>Not assigned</td>\n",
       "      <td>Not assigned</td>\n",
       "    </tr>\n",
       "    <tr>\n",
       "      <th>2</th>\n",
       "      <td>M3A</td>\n",
       "      <td>North York</td>\n",
       "      <td>Parkwoods</td>\n",
       "    </tr>\n",
       "    <tr>\n",
       "      <th>3</th>\n",
       "      <td>M4A</td>\n",
       "      <td>North York</td>\n",
       "      <td>Victoria Village</td>\n",
       "    </tr>\n",
       "    <tr>\n",
       "      <th>4</th>\n",
       "      <td>M5A</td>\n",
       "      <td>Downtown Toronto</td>\n",
       "      <td>Regent Park, Harbourfront</td>\n",
       "    </tr>\n",
       "  </tbody>\n",
       "</table>\n",
       "</div>"
      ],
      "text/plain": [
       "  Postal Code           Borough              Neighbourhood\n",
       "0         M1A      Not assigned               Not assigned\n",
       "1         M2A      Not assigned               Not assigned\n",
       "2         M3A        North York                  Parkwoods\n",
       "3         M4A        North York           Victoria Village\n",
       "4         M5A  Downtown Toronto  Regent Park, Harbourfront"
      ]
     },
     "execution_count": 2,
     "metadata": {},
     "output_type": "execute_result"
    }
   ],
   "source": [
    "toronto_url='https://en.wikipedia.org/wiki/List_of_postal_codes_of_Canada:_M'\n",
    "df = pd.read_html(toronto_url)[0] # It's the first table in the designated web page\n",
    "print('Data downloaded!')\n",
    "print('The initial shape of dataframe is: ',df.shape)\n",
    "df.head()"
   ]
  },
  {
   "cell_type": "markdown",
   "metadata": {},
   "source": [
    "Now, we should drop the  cells with a borough that is Not assigned."
   ]
  },
  {
   "cell_type": "code",
   "execution_count": 3,
   "metadata": {
    "scrolled": true
   },
   "outputs": [
    {
     "name": "stdout",
     "output_type": "stream",
     "text": [
      "The shape of dataframe is  reduced to:  (103, 3)\n"
     ]
    },
    {
     "data": {
      "text/html": [
       "<div>\n",
       "<style scoped>\n",
       "    .dataframe tbody tr th:only-of-type {\n",
       "        vertical-align: middle;\n",
       "    }\n",
       "\n",
       "    .dataframe tbody tr th {\n",
       "        vertical-align: top;\n",
       "    }\n",
       "\n",
       "    .dataframe thead th {\n",
       "        text-align: right;\n",
       "    }\n",
       "</style>\n",
       "<table border=\"1\" class=\"dataframe\">\n",
       "  <thead>\n",
       "    <tr style=\"text-align: right;\">\n",
       "      <th></th>\n",
       "      <th>Postal Code</th>\n",
       "      <th>Borough</th>\n",
       "      <th>Neighbourhood</th>\n",
       "    </tr>\n",
       "  </thead>\n",
       "  <tbody>\n",
       "    <tr>\n",
       "      <th>0</th>\n",
       "      <td>M3A</td>\n",
       "      <td>North York</td>\n",
       "      <td>Parkwoods</td>\n",
       "    </tr>\n",
       "    <tr>\n",
       "      <th>1</th>\n",
       "      <td>M4A</td>\n",
       "      <td>North York</td>\n",
       "      <td>Victoria Village</td>\n",
       "    </tr>\n",
       "    <tr>\n",
       "      <th>2</th>\n",
       "      <td>M5A</td>\n",
       "      <td>Downtown Toronto</td>\n",
       "      <td>Regent Park, Harbourfront</td>\n",
       "    </tr>\n",
       "    <tr>\n",
       "      <th>3</th>\n",
       "      <td>M6A</td>\n",
       "      <td>North York</td>\n",
       "      <td>Lawrence Manor, Lawrence Heights</td>\n",
       "    </tr>\n",
       "    <tr>\n",
       "      <th>4</th>\n",
       "      <td>M7A</td>\n",
       "      <td>Downtown Toronto</td>\n",
       "      <td>Queen's Park, Ontario Provincial Government</td>\n",
       "    </tr>\n",
       "  </tbody>\n",
       "</table>\n",
       "</div>"
      ],
      "text/plain": [
       "  Postal Code           Borough                                Neighbourhood\n",
       "0         M3A        North York                                    Parkwoods\n",
       "1         M4A        North York                             Victoria Village\n",
       "2         M5A  Downtown Toronto                    Regent Park, Harbourfront\n",
       "3         M6A        North York             Lawrence Manor, Lawrence Heights\n",
       "4         M7A  Downtown Toronto  Queen's Park, Ontario Provincial Government"
      ]
     },
     "execution_count": 3,
     "metadata": {},
     "output_type": "execute_result"
    }
   ],
   "source": [
    "df=df[~df['Borough'].isin(['Not assigned'])]\n",
    "df.reset_index(drop=True,inplace=True)\n",
    "print('The shape of dataframe is  reduced to: ',df.shape)\n",
    "df.head()"
   ]
  },
  {
   "cell_type": "code",
   "execution_count": 4,
   "metadata": {},
   "outputs": [
    {
     "name": "stdout",
     "output_type": "stream",
     "text": [
      "The dataframe has 10 Borough.\n"
     ]
    }
   ],
   "source": [
    "print('The dataframe has {} Borough.'.format(len(df['Borough'].unique())))"
   ]
  },
  {
   "cell_type": "markdown",
   "metadata": {},
   "source": [
    "Rename the 'Not assigned Neighbourhood' as the same name of it's Borough."
   ]
  },
  {
   "cell_type": "code",
   "execution_count": 5,
   "metadata": {
    "scrolled": true
   },
   "outputs": [
    {
     "data": {
      "text/plain": [
       "103"
      ]
     },
     "execution_count": 5,
     "metadata": {},
     "output_type": "execute_result"
    }
   ],
   "source": [
    "df_array=np.array(df)\n",
    "len(df_array)"
   ]
  },
  {
   "cell_type": "code",
   "execution_count": 6,
   "metadata": {},
   "outputs": [
    {
     "data": {
      "text/plain": [
       "array([['M3A', 'North York', 'Parkwoods'],\n",
       "       ['M4A', 'North York', 'Victoria Village'],\n",
       "       ['M5A', 'Downtown Toronto', 'Regent Park, Harbourfront'],\n",
       "       ['M6A', 'North York', 'Lawrence Manor, Lawrence Heights'],\n",
       "       ['M7A', 'Downtown Toronto',\n",
       "        \"Queen's Park, Ontario Provincial Government\"],\n",
       "       ['M9A', 'Etobicoke', 'Islington Avenue, Humber Valley Village'],\n",
       "       ['M1B', 'Scarborough', 'Malvern, Rouge'],\n",
       "       ['M3B', 'North York', 'Don Mills'],\n",
       "       ['M4B', 'East York', 'Parkview Hill, Woodbine Gardens'],\n",
       "       ['M5B', 'Downtown Toronto', 'Garden District, Ryerson'],\n",
       "       ['M6B', 'North York', 'Glencairn'],\n",
       "       ['M9B', 'Etobicoke',\n",
       "        'West Deane Park, Princess Gardens, Martin Grove, Islington, Cloverdale'],\n",
       "       ['M1C', 'Scarborough', 'Rouge Hill, Port Union, Highland Creek'],\n",
       "       ['M3C', 'North York', 'Don Mills'],\n",
       "       ['M4C', 'East York', 'Woodbine Heights'],\n",
       "       ['M5C', 'Downtown Toronto', 'St. James Town'],\n",
       "       ['M6C', 'York', 'Humewood-Cedarvale'],\n",
       "       ['M9C', 'Etobicoke',\n",
       "        'Eringate, Bloordale Gardens, Old Burnhamthorpe, Markland Wood'],\n",
       "       ['M1E', 'Scarborough', 'Guildwood, Morningside, West Hill'],\n",
       "       ['M4E', 'East Toronto', 'The Beaches'],\n",
       "       ['M5E', 'Downtown Toronto', 'Berczy Park'],\n",
       "       ['M6E', 'York', 'Caledonia-Fairbanks'],\n",
       "       ['M1G', 'Scarborough', 'Woburn'],\n",
       "       ['M4G', 'East York', 'Leaside'],\n",
       "       ['M5G', 'Downtown Toronto', 'Central Bay Street'],\n",
       "       ['M6G', 'Downtown Toronto', 'Christie'],\n",
       "       ['M1H', 'Scarborough', 'Cedarbrae'],\n",
       "       ['M2H', 'North York', 'Hillcrest Village'],\n",
       "       ['M3H', 'North York',\n",
       "        'Bathurst Manor, Wilson Heights, Downsview North'],\n",
       "       ['M4H', 'East York', 'Thorncliffe Park'],\n",
       "       ['M5H', 'Downtown Toronto', 'Richmond, Adelaide, King'],\n",
       "       ['M6H', 'West Toronto', 'Dufferin, Dovercourt Village'],\n",
       "       ['M1J', 'Scarborough', 'Scarborough Village'],\n",
       "       ['M2J', 'North York', 'Fairview, Henry Farm, Oriole'],\n",
       "       ['M3J', 'North York', 'Northwood Park, York University'],\n",
       "       ['M4J', 'East York',\n",
       "        'East Toronto, Broadview North (Old East York)'],\n",
       "       ['M5J', 'Downtown Toronto',\n",
       "        'Harbourfront East, Union Station, Toronto Islands'],\n",
       "       ['M6J', 'West Toronto', 'Little Portugal, Trinity'],\n",
       "       ['M1K', 'Scarborough',\n",
       "        'Kennedy Park, Ionview, East Birchmount Park'],\n",
       "       ['M2K', 'North York', 'Bayview Village'],\n",
       "       ['M3K', 'North York', 'Downsview'],\n",
       "       ['M4K', 'East Toronto', 'The Danforth West, Riverdale'],\n",
       "       ['M5K', 'Downtown Toronto',\n",
       "        'Toronto Dominion Centre, Design Exchange'],\n",
       "       ['M6K', 'West Toronto',\n",
       "        'Brockton, Parkdale Village, Exhibition Place'],\n",
       "       ['M1L', 'Scarborough', 'Golden Mile, Clairlea, Oakridge'],\n",
       "       ['M2L', 'North York', 'York Mills, Silver Hills'],\n",
       "       ['M3L', 'North York', 'Downsview'],\n",
       "       ['M4L', 'East Toronto', 'India Bazaar, The Beaches West'],\n",
       "       ['M5L', 'Downtown Toronto', 'Commerce Court, Victoria Hotel'],\n",
       "       ['M6L', 'North York', 'North Park, Maple Leaf Park, Upwood Park'],\n",
       "       ['M9L', 'North York', 'Humber Summit'],\n",
       "       ['M1M', 'Scarborough',\n",
       "        'Cliffside, Cliffcrest, Scarborough Village West'],\n",
       "       ['M2M', 'North York', 'Willowdale, Newtonbrook'],\n",
       "       ['M3M', 'North York', 'Downsview'],\n",
       "       ['M4M', 'East Toronto', 'Studio District'],\n",
       "       ['M5M', 'North York', 'Bedford Park, Lawrence Manor East'],\n",
       "       ['M6M', 'York',\n",
       "        'Del Ray, Mount Dennis, Keelsdale and Silverthorn'],\n",
       "       ['M9M', 'North York', 'Humberlea, Emery'],\n",
       "       ['M1N', 'Scarborough', 'Birch Cliff, Cliffside West'],\n",
       "       ['M2N', 'North York', 'Willowdale, Willowdale East'],\n",
       "       ['M3N', 'North York', 'Downsview'],\n",
       "       ['M4N', 'Central Toronto', 'Lawrence Park'],\n",
       "       ['M5N', 'Central Toronto', 'Roselawn'],\n",
       "       ['M6N', 'York', 'Runnymede, The Junction North'],\n",
       "       ['M9N', 'York', 'Weston'],\n",
       "       ['M1P', 'Scarborough',\n",
       "        'Dorset Park, Wexford Heights, Scarborough Town Centre'],\n",
       "       ['M2P', 'North York', 'York Mills West'],\n",
       "       ['M4P', 'Central Toronto', 'Davisville North'],\n",
       "       ['M5P', 'Central Toronto',\n",
       "        'Forest Hill North & West, Forest Hill Road Park'],\n",
       "       ['M6P', 'West Toronto', 'High Park, The Junction South'],\n",
       "       ['M9P', 'Etobicoke', 'Westmount'],\n",
       "       ['M1R', 'Scarborough', 'Wexford, Maryvale'],\n",
       "       ['M2R', 'North York', 'Willowdale, Willowdale West'],\n",
       "       ['M4R', 'Central Toronto', 'North Toronto West, Lawrence Park'],\n",
       "       ['M5R', 'Central Toronto', 'The Annex, North Midtown, Yorkville'],\n",
       "       ['M6R', 'West Toronto', 'Parkdale, Roncesvalles'],\n",
       "       ['M7R', 'Mississauga', 'Canada Post Gateway Processing Centre'],\n",
       "       ['M9R', 'Etobicoke',\n",
       "        'Kingsview Village, St. Phillips, Martin Grove Gardens, Richview Gardens'],\n",
       "       ['M1S', 'Scarborough', 'Agincourt'],\n",
       "       ['M4S', 'Central Toronto', 'Davisville'],\n",
       "       ['M5S', 'Downtown Toronto', 'University of Toronto, Harbord'],\n",
       "       ['M6S', 'West Toronto', 'Runnymede, Swansea'],\n",
       "       ['M1T', 'Scarborough', \"Clarks Corners, Tam O'Shanter, Sullivan\"],\n",
       "       ['M4T', 'Central Toronto', 'Moore Park, Summerhill East'],\n",
       "       ['M5T', 'Downtown Toronto',\n",
       "        'Kensington Market, Chinatown, Grange Park'],\n",
       "       ['M1V', 'Scarborough',\n",
       "        \"Milliken, Agincourt North, Steeles East, L'Amoreaux East\"],\n",
       "       ['M4V', 'Central Toronto',\n",
       "        'Summerhill West, Rathnelly, South Hill, Forest Hill SE, Deer Park'],\n",
       "       ['M5V', 'Downtown Toronto',\n",
       "        'CN Tower, King and Spadina, Railway Lands, Harbourfront West, Bathurst Quay, South Niagara, Island airport'],\n",
       "       ['M8V', 'Etobicoke',\n",
       "        'New Toronto, Mimico South, Humber Bay Shores'],\n",
       "       ['M9V', 'Etobicoke',\n",
       "        'South Steeles, Silverstone, Humbergate, Jamestown, Mount Olive, Beaumond Heights, Thistletown, Albion Gardens'],\n",
       "       ['M1W', 'Scarborough', \"Steeles West, L'Amoreaux West\"],\n",
       "       ['M4W', 'Downtown Toronto', 'Rosedale'],\n",
       "       ['M5W', 'Downtown Toronto', 'Stn A PO Boxes'],\n",
       "       ['M8W', 'Etobicoke', 'Alderwood, Long Branch'],\n",
       "       ['M9W', 'Etobicoke', 'Northwest, West Humber - Clairville'],\n",
       "       ['M1X', 'Scarborough', 'Upper Rouge'],\n",
       "       ['M4X', 'Downtown Toronto', 'St. James Town, Cabbagetown'],\n",
       "       ['M5X', 'Downtown Toronto',\n",
       "        'First Canadian Place, Underground city'],\n",
       "       ['M8X', 'Etobicoke',\n",
       "        'The Kingsway, Montgomery Road, Old Mill North'],\n",
       "       ['M4Y', 'Downtown Toronto', 'Church and Wellesley'],\n",
       "       ['M7Y', 'East Toronto',\n",
       "        'Business reply mail Processing Centre, South Central Letter Processing Plant Toronto'],\n",
       "       ['M8Y', 'Etobicoke',\n",
       "        \"Old Mill South, King's Mill Park, Sunnylea, Humber Bay, Mimico NE, The Queensway East, Royal York South East, Kingsway Park South East\"],\n",
       "       ['M8Z', 'Etobicoke',\n",
       "        'Mimico NW, The Queensway West, South of Bloor, Kingsway Park South West, Royal York South West']],\n",
       "      dtype=object)"
      ]
     },
     "execution_count": 6,
     "metadata": {},
     "output_type": "execute_result"
    }
   ],
   "source": [
    "Neighbourhood_array=[]\n",
    "for i in range(len(df_array)):\n",
    "    Neighbourhood_array.append(df_array[i][2].split(','))\n",
    "for i in range(len(df_array)):\n",
    "    for j in range(len(Neighbourhood_array[i])):\n",
    "        if Neighbourhood_array[i][j]=='Not assigned':\n",
    "            Neighbourhood_array[i][j]=df_array[i][1]\n",
    "    df_array[i][2]=','.join(Neighbourhood_array[i])\n",
    "df_array"
   ]
  },
  {
   "cell_type": "code",
   "execution_count": 7,
   "metadata": {
    "scrolled": false
   },
   "outputs": [
    {
     "data": {
      "text/html": [
       "<div>\n",
       "<style scoped>\n",
       "    .dataframe tbody tr th:only-of-type {\n",
       "        vertical-align: middle;\n",
       "    }\n",
       "\n",
       "    .dataframe tbody tr th {\n",
       "        vertical-align: top;\n",
       "    }\n",
       "\n",
       "    .dataframe thead th {\n",
       "        text-align: right;\n",
       "    }\n",
       "</style>\n",
       "<table border=\"1\" class=\"dataframe\">\n",
       "  <thead>\n",
       "    <tr style=\"text-align: right;\">\n",
       "      <th></th>\n",
       "      <th>Postal Code</th>\n",
       "      <th>Borough</th>\n",
       "      <th>Neighbourhood</th>\n",
       "    </tr>\n",
       "  </thead>\n",
       "  <tbody>\n",
       "    <tr>\n",
       "      <th>0</th>\n",
       "      <td>M3A</td>\n",
       "      <td>North York</td>\n",
       "      <td>Parkwoods</td>\n",
       "    </tr>\n",
       "    <tr>\n",
       "      <th>1</th>\n",
       "      <td>M4A</td>\n",
       "      <td>North York</td>\n",
       "      <td>Victoria Village</td>\n",
       "    </tr>\n",
       "    <tr>\n",
       "      <th>2</th>\n",
       "      <td>M5A</td>\n",
       "      <td>Downtown Toronto</td>\n",
       "      <td>Regent Park, Harbourfront</td>\n",
       "    </tr>\n",
       "    <tr>\n",
       "      <th>3</th>\n",
       "      <td>M6A</td>\n",
       "      <td>North York</td>\n",
       "      <td>Lawrence Manor, Lawrence Heights</td>\n",
       "    </tr>\n",
       "    <tr>\n",
       "      <th>4</th>\n",
       "      <td>M7A</td>\n",
       "      <td>Downtown Toronto</td>\n",
       "      <td>Queen's Park, Ontario Provincial Government</td>\n",
       "    </tr>\n",
       "  </tbody>\n",
       "</table>\n",
       "</div>"
      ],
      "text/plain": [
       "  Postal Code           Borough                                Neighbourhood\n",
       "0         M3A        North York                                    Parkwoods\n",
       "1         M4A        North York                             Victoria Village\n",
       "2         M5A  Downtown Toronto                    Regent Park, Harbourfront\n",
       "3         M6A        North York             Lawrence Manor, Lawrence Heights\n",
       "4         M7A  Downtown Toronto  Queen's Park, Ontario Provincial Government"
      ]
     },
     "execution_count": 7,
     "metadata": {},
     "output_type": "execute_result"
    }
   ],
   "source": [
    "Toronto_neighbourhood_df = DataFrame(df_array,index=None,columns = ['Postal Code','Borough','Neighbourhood'])\n",
    "Toronto_neighbourhood_df.head()"
   ]
  },
  {
   "cell_type": "code",
   "execution_count": 8,
   "metadata": {},
   "outputs": [
    {
     "data": {
      "text/plain": [
       "(103, 3)"
      ]
     },
     "execution_count": 8,
     "metadata": {},
     "output_type": "execute_result"
    }
   ],
   "source": [
    "Toronto_neighbourhood_df.shape"
   ]
  },
  {
   "cell_type": "markdown",
   "metadata": {},
   "source": [
    "Get the latitude and the longitude coordinates of each postal code."
   ]
  },
  {
   "cell_type": "code",
   "execution_count": 9,
   "metadata": {},
   "outputs": [],
   "source": [
    "Geospatial_Coordinates=pd.read_csv('http://cocl.us/Geospatial_data')"
   ]
  },
  {
   "cell_type": "code",
   "execution_count": 10,
   "metadata": {},
   "outputs": [
    {
     "name": "stdout",
     "output_type": "stream",
     "text": [
      "The Geospatial_Coordinates data frame shape is: (103, 3)\n"
     ]
    },
    {
     "data": {
      "text/html": [
       "<div>\n",
       "<style scoped>\n",
       "    .dataframe tbody tr th:only-of-type {\n",
       "        vertical-align: middle;\n",
       "    }\n",
       "\n",
       "    .dataframe tbody tr th {\n",
       "        vertical-align: top;\n",
       "    }\n",
       "\n",
       "    .dataframe thead th {\n",
       "        text-align: right;\n",
       "    }\n",
       "</style>\n",
       "<table border=\"1\" class=\"dataframe\">\n",
       "  <thead>\n",
       "    <tr style=\"text-align: right;\">\n",
       "      <th></th>\n",
       "      <th>Postal Code</th>\n",
       "      <th>Latitude</th>\n",
       "      <th>Longitude</th>\n",
       "    </tr>\n",
       "  </thead>\n",
       "  <tbody>\n",
       "    <tr>\n",
       "      <th>0</th>\n",
       "      <td>M1B</td>\n",
       "      <td>43.806686</td>\n",
       "      <td>-79.194353</td>\n",
       "    </tr>\n",
       "    <tr>\n",
       "      <th>1</th>\n",
       "      <td>M1C</td>\n",
       "      <td>43.784535</td>\n",
       "      <td>-79.160497</td>\n",
       "    </tr>\n",
       "    <tr>\n",
       "      <th>2</th>\n",
       "      <td>M1E</td>\n",
       "      <td>43.763573</td>\n",
       "      <td>-79.188711</td>\n",
       "    </tr>\n",
       "    <tr>\n",
       "      <th>3</th>\n",
       "      <td>M1G</td>\n",
       "      <td>43.770992</td>\n",
       "      <td>-79.216917</td>\n",
       "    </tr>\n",
       "    <tr>\n",
       "      <th>4</th>\n",
       "      <td>M1H</td>\n",
       "      <td>43.773136</td>\n",
       "      <td>-79.239476</td>\n",
       "    </tr>\n",
       "  </tbody>\n",
       "</table>\n",
       "</div>"
      ],
      "text/plain": [
       "  Postal Code   Latitude  Longitude\n",
       "0         M1B  43.806686 -79.194353\n",
       "1         M1C  43.784535 -79.160497\n",
       "2         M1E  43.763573 -79.188711\n",
       "3         M1G  43.770992 -79.216917\n",
       "4         M1H  43.773136 -79.239476"
      ]
     },
     "execution_count": 10,
     "metadata": {},
     "output_type": "execute_result"
    }
   ],
   "source": [
    "print('The Geospatial_Coordinates data frame shape is:',Geospatial_Coordinates.shape)\n",
    "Geospatial_Coordinates.head()"
   ]
  },
  {
   "cell_type": "code",
   "execution_count": 11,
   "metadata": {},
   "outputs": [
    {
     "data": {
      "text/html": [
       "<div>\n",
       "<style scoped>\n",
       "    .dataframe tbody tr th:only-of-type {\n",
       "        vertical-align: middle;\n",
       "    }\n",
       "\n",
       "    .dataframe tbody tr th {\n",
       "        vertical-align: top;\n",
       "    }\n",
       "\n",
       "    .dataframe thead th {\n",
       "        text-align: right;\n",
       "    }\n",
       "</style>\n",
       "<table border=\"1\" class=\"dataframe\">\n",
       "  <thead>\n",
       "    <tr style=\"text-align: right;\">\n",
       "      <th></th>\n",
       "      <th>Postal Code</th>\n",
       "      <th>Borough</th>\n",
       "      <th>Neighbourhood</th>\n",
       "      <th>Latitude</th>\n",
       "      <th>Longitude</th>\n",
       "    </tr>\n",
       "  </thead>\n",
       "  <tbody>\n",
       "    <tr>\n",
       "      <th>0</th>\n",
       "      <td>M3A</td>\n",
       "      <td>North York</td>\n",
       "      <td>Parkwoods</td>\n",
       "      <td>43.753259</td>\n",
       "      <td>-79.329656</td>\n",
       "    </tr>\n",
       "    <tr>\n",
       "      <th>1</th>\n",
       "      <td>M4A</td>\n",
       "      <td>North York</td>\n",
       "      <td>Victoria Village</td>\n",
       "      <td>43.725882</td>\n",
       "      <td>-79.315572</td>\n",
       "    </tr>\n",
       "    <tr>\n",
       "      <th>2</th>\n",
       "      <td>M5A</td>\n",
       "      <td>Downtown Toronto</td>\n",
       "      <td>Regent Park, Harbourfront</td>\n",
       "      <td>43.654260</td>\n",
       "      <td>-79.360636</td>\n",
       "    </tr>\n",
       "    <tr>\n",
       "      <th>3</th>\n",
       "      <td>M6A</td>\n",
       "      <td>North York</td>\n",
       "      <td>Lawrence Manor, Lawrence Heights</td>\n",
       "      <td>43.718518</td>\n",
       "      <td>-79.464763</td>\n",
       "    </tr>\n",
       "    <tr>\n",
       "      <th>4</th>\n",
       "      <td>M7A</td>\n",
       "      <td>Downtown Toronto</td>\n",
       "      <td>Queen's Park, Ontario Provincial Government</td>\n",
       "      <td>43.662301</td>\n",
       "      <td>-79.389494</td>\n",
       "    </tr>\n",
       "  </tbody>\n",
       "</table>\n",
       "</div>"
      ],
      "text/plain": [
       "  Postal Code           Borough                                Neighbourhood  \\\n",
       "0         M3A        North York                                    Parkwoods   \n",
       "1         M4A        North York                             Victoria Village   \n",
       "2         M5A  Downtown Toronto                    Regent Park, Harbourfront   \n",
       "3         M6A        North York             Lawrence Manor, Lawrence Heights   \n",
       "4         M7A  Downtown Toronto  Queen's Park, Ontario Provincial Government   \n",
       "\n",
       "    Latitude  Longitude  \n",
       "0  43.753259 -79.329656  \n",
       "1  43.725882 -79.315572  \n",
       "2  43.654260 -79.360636  \n",
       "3  43.718518 -79.464763  \n",
       "4  43.662301 -79.389494  "
      ]
     },
     "execution_count": 11,
     "metadata": {},
     "output_type": "execute_result"
    }
   ],
   "source": [
    "Toronto_neighbourhood=pd.merge(Toronto_neighbourhood_df,Geospatial_Coordinates,how='left',on='Postal Code')\n",
    "Toronto_neighbourhood.head()"
   ]
  },
  {
   "cell_type": "code",
   "execution_count": 12,
   "metadata": {},
   "outputs": [
    {
     "data": {
      "text/plain": [
       "(103, 5)"
      ]
     },
     "execution_count": 12,
     "metadata": {},
     "output_type": "execute_result"
    }
   ],
   "source": [
    "Toronto_neighbourhood.shape"
   ]
  },
  {
   "cell_type": "code",
   "execution_count": null,
   "metadata": {},
   "outputs": [],
   "source": []
  }
 ],
 "metadata": {
  "kernelspec": {
   "display_name": "Python 3",
   "language": "python",
   "name": "python3"
  },
  "language_info": {
   "codemirror_mode": {
    "name": "ipython",
    "version": 3
   },
   "file_extension": ".py",
   "mimetype": "text/x-python",
   "name": "python",
   "nbconvert_exporter": "python",
   "pygments_lexer": "ipython3",
   "version": "3.7.6"
  }
 },
 "nbformat": 4,
 "nbformat_minor": 4
}
